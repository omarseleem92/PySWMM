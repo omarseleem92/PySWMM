{
 "cells": [
  {
   "cell_type": "code",
   "execution_count": null,
   "id": "68bf7390",
   "metadata": {},
   "outputs": [],
   "source": [
    "import pyswmm\n",
    "from pyswmm import Simulation,Subcatchments,Nodes,SystemStats,LidControls,LidGroups\n",
    "import numpy as np\n",
    "import pandas as pd\n",
    "import math\n",
    "import queue\n",
    "import threading\n",
    "import subprocess\n",
    "import time\n",
    "import random\n",
    "import ast\n"
   ]
  },
  {
   "cell_type": "code",
   "execution_count": null,
   "id": "f9959157",
   "metadata": {},
   "outputs": [],
   "source": [
    "# Parameters\n",
    "\n",
    "area2_range=[0.02,0.2]\n",
    "\n",
    "# Surface layer thickness\n",
    "surface_thickness=[100,600]\n",
    "\n",
    "# soil layer thickness\n",
    "soil_thickness=[300,600]\n",
    "\n",
    "#Storage layer thickness\n",
    "storage_thickness=[800,2000]\n",
    "\n",
    "#Drain offset\n",
    "#drain_offset=[0,200,400,600,800,1000]\n",
    "drain_offset=[0,1000]\n",
    "\n",
    "#Soil layer conductivity\n",
    "seepage_rate=[0.5,120]"
   ]
  },
  {
   "cell_type": "code",
   "execution_count": null,
   "id": "db07e244",
   "metadata": {},
   "outputs": [],
   "source": [
    "# The number of parameter combination (simulations) to be done\n",
    "num_iterations=1000"
   ]
  },
  {
   "cell_type": "code",
   "execution_count": null,
   "id": "f08e2b2d",
   "metadata": {},
   "outputs": [],
   "source": [
    "# Create a queue and add all the simulations to it\n",
    "simulations_queue = queue.Queue()\n",
    "for _ in range(num_iterations):\n",
    "        params = (\n",
    "            round(random.uniform(min(area2_range), max(area2_range)), 2),\n",
    "            round(random.uniform(min(surface_thickness), max(surface_thickness)), 2),\n",
    "            round(random.uniform(min(soil_thickness), max(soil_thickness)), 2),\n",
    "            round(random.uniform(min(storage_thickness), max(storage_thickness)), 2),\n",
    "            random.choice(drain_offset),\n",
    "            round(random.uniform(min(seepage_rate), max(seepage_rate)), 2)\n",
    "        )\n",
    "        simulations_queue.put(params)\n",
    "#simulations_queue.get()\n"
   ]
  },
  {
   "cell_type": "code",
   "execution_count": null,
   "id": "355428db",
   "metadata": {},
   "outputs": [],
   "source": [
    "# Create empty lists to save the results in them\n",
    "Results_area2=[]\n",
    "Results_Bio_surface_thickness=[]\n",
    "Results_Bio_soil_thickness=[]\n",
    "Results_Bio_storage_thickness=[]\n",
    "Results_Bio_drain_offset=[]\n",
    "Results_Bio_seepage_rate=[]\n",
    "Results_S1_stat=[]\n",
    "Results_S2_stat=[]\n",
    "Results_system_stat=[]"
   ]
  },
  {
   "cell_type": "code",
   "execution_count": null,
   "id": "16dc6931",
   "metadata": {},
   "outputs": [],
   "source": [
    "# Function to process the simulations from the queue\n",
    "def process_simulation_queue():\n",
    "    while not simulations_queue.empty():\n",
    "        sim_params = simulations_queue.get()\n",
    "        result = subprocess.run([\"python\", \"pyswmm_wrapper.py\", \"SWMM.inp\",\n",
    "                                 str(sim_params[0]),  # A2\n",
    "                                 str(sim_params[1]),  # Surface_thickness_value\n",
    "                                 str(sim_params[2]),  # Soil_thickness_value\n",
    "                                 str(sim_params[3]),  # Storage_thickness_value\n",
    "                                 str(sim_params[4]),  # Drain_offset_value\n",
    "                                 str(sim_params[5])   # Seepage_rate_value\n",
    "                                ], capture_output=True, text=True)\n",
    "        \n",
    "        #print(result)\n",
    "        #print(\"---------------------------------------------------------------------------------------------------\")\n",
    "        \n",
    "                                 \n",
    "        if result.returncode == 0:\n",
    "            #print(\"YYYYYYYYYYYYYYYYYYYYYYYYYYYYYYYYYYYYYYYYYYYYYYYYYYYY\")\n",
    "            output_lines = result.stdout.splitlines()\n",
    "            #print(output_lines)\n",
    "            Results_area2.append(float(output_lines[0]))           \n",
    "            Results_Bio_surface_thickness.append(float(output_lines[1]))\n",
    "            Results_Bio_soil_thickness.append(float(output_lines[2]))\n",
    "            Results_Bio_storage_thickness.append(float(output_lines[3]))\n",
    "            Results_Bio_drain_offset.append(float(output_lines[4]))\n",
    "            Results_Bio_seepage_rate.append(float(output_lines[5]))\n",
    "            Results_S1_stat.append(output_lines[6])\n",
    "            Results_S2_stat.append(output_lines[7])\n",
    "            Results_system_stat.append(output_lines[8])\n",
    "\n",
    "        simulations_queue.task_done()\n",
    "        "
   ]
  },
  {
   "cell_type": "code",
   "execution_count": null,
   "id": "7bf3356b",
   "metadata": {
    "scrolled": true
   },
   "outputs": [],
   "source": [
    "# Create and start the threads\n",
    "num_threads = 20  # Adjust the number of threads as per your system's capabilities\n",
    "threads = []\n",
    "start_time=time.time()\n",
    "for _ in range(num_threads):\n",
    "    thread = threading.Thread(target=process_simulation_queue)\n",
    "    thread.start()\n",
    "    threads.append(thread)\n",
    "\n",
    "# Wait for all threads to finish\n",
    "for thread in threads:\n",
    "    thread.join()\n",
    "    \n",
    "print(\"Finish\")\n",
    "end_time=time.time()"
   ]
  },
  {
   "cell_type": "code",
   "execution_count": null,
   "id": "d0468047",
   "metadata": {},
   "outputs": [],
   "source": [
    "elapsed_time = (end_time - start_time)/3600\n",
    "\n",
    "print(f\"Function took {elapsed_time:.6f} hrs to execute.\")"
   ]
  },
  {
   "cell_type": "code",
   "execution_count": null,
   "id": "db3d0cff",
   "metadata": {},
   "outputs": [],
   "source": [
    "# You need to change the returned values from string to float\n",
    "Results_area2_float=[float(i) for i in Results_area2]\n"
   ]
  },
  {
   "cell_type": "code",
   "execution_count": null,
   "id": "faf8ada7",
   "metadata": {},
   "outputs": [],
   "source": [
    "# You need to change the returned values from string to dictionaries \n",
    "Results_system_stat_dict=[]\n",
    "Results_S1_stat_dict=[]\n",
    "Results_S2_stat_dict=[]\n",
    "\n",
    "for index,item in enumerate(Results_system_stat):\n",
    "    Results_system_stat_dict.append(ast.literal_eval(Results_system_stat[index]))\n",
    "for index,item in enumerate(Results_S1_stat):\n",
    "    Results_S1_stat_dict.append(ast.literal_eval(Results_S1_stat[index]))\n",
    "for index,item in enumerate(Results_S2_stat):\n",
    "    Results_S2_stat_dict.append(ast.literal_eval(Results_S2_stat[index]))"
   ]
  },
  {
   "cell_type": "code",
   "execution_count": null,
   "id": "066f1ecd",
   "metadata": {},
   "outputs": [],
   "source": [
    "# Then we can save all the returned values in a dataframe for a further analysis\n",
    "Results_df=pd.DataFrame()\n",
    "Results_df['Area_S2']=Results_area2_float\n",
    "Results_df['Bio_Berm_Height']=Results_Bio_surface_thickness\n",
    "Results_df['Bio_soil_thickness']=Results_Bio_soil_thickness\n",
    "Results_df['Bio_storage_thickness']=Results_Bio_storage_thickness\n",
    "Results_df['Bio_drain_thickness']=Results_Bio_drain_offset\n",
    "Results_df['Bio_seepage_rate']=Results_Bio_seepage_rate\n",
    "Results_df['S1_statistics']=Results_S1_stat_dict\n",
    "Results_df['S2_statistics']=Results_S2_stat_dict\n",
    "Results_df['System_statistics']=Results_system_stat_dict\n",
    "Results_df"
   ]
  },
  {
   "cell_type": "code",
   "execution_count": null,
   "id": "3f756546",
   "metadata": {},
   "outputs": [],
   "source": []
  },
  {
   "cell_type": "code",
   "execution_count": null,
   "id": "b7b8a8c1",
   "metadata": {},
   "outputs": [],
   "source": []
  }
 ],
 "metadata": {
  "kernelspec": {
   "display_name": "Python 3 (ipykernel)",
   "language": "python",
   "name": "python3"
  },
  "language_info": {
   "codemirror_mode": {
    "name": "ipython",
    "version": 3
   },
   "file_extension": ".py",
   "mimetype": "text/x-python",
   "name": "python",
   "nbconvert_exporter": "python",
   "pygments_lexer": "ipython3",
   "version": "3.11.4"
  }
 },
 "nbformat": 4,
 "nbformat_minor": 5
}
